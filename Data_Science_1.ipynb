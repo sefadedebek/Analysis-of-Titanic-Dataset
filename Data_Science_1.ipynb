{
 "cells": [
  {
   "cell_type": "markdown",
   "metadata": {},
   "source": [
    "# TITANIC DATASET"
   ]
  },
  {
   "cell_type": "code",
   "execution_count": 4,
   "metadata": {},
   "outputs": [
    {
     "name": "stdout",
     "output_type": "stream",
     "text": [
      "<class 'pandas.core.frame.DataFrame'>\n",
      "RangeIndex: 891 entries, 0 to 890\n",
      "Data columns (total 12 columns):\n",
      " #   Column       Non-Null Count  Dtype  \n",
      "---  ------       --------------  -----  \n",
      " 0   PassengerId  891 non-null    int64  \n",
      " 1   Survived     891 non-null    int64  \n",
      " 2   Pclass       891 non-null    int64  \n",
      " 3   Name         891 non-null    object \n",
      " 4   Sex          891 non-null    object \n",
      " 5   Age          714 non-null    float64\n",
      " 6   SibSp        891 non-null    int64  \n",
      " 7   Parch        891 non-null    int64  \n",
      " 8   Ticket       891 non-null    object \n",
      " 9   Fare         891 non-null    float64\n",
      " 10  Cabin        204 non-null    object \n",
      " 11  Embarked     889 non-null    object \n",
      "dtypes: float64(2), int64(5), object(5)\n",
      "memory usage: 66.2+ KB\n"
     ]
    }
   ],
   "source": [
    "import numpy as np\n",
    "import pandas as pd\n",
    "import matplotlib.pyplot as plt \n",
    "import seaborn as sbn\n",
    "\n",
    "df_titanic= pd.read_csv(\"C:\\\\Users\\\\sefad\\\\Desktop\\\\Python\\\\train.csv\")\n",
    "\n",
    "df_titanic.info()\n"
   ]
  },
  {
   "cell_type": "markdown",
   "metadata": {},
   "source": [
    "# Question1- all the information that belongs to the first five passengers"
   ]
  },
  {
   "cell_type": "code",
   "execution_count": 2,
   "metadata": {},
   "outputs": [
    {
     "name": "stdout",
     "output_type": "stream",
     "text": [
      "   PassengerId  Survived  Pclass  \\\n",
      "0            1         0       3   \n",
      "1            2         1       1   \n",
      "2            3         1       3   \n",
      "3            4         1       1   \n",
      "4            5         0       3   \n",
      "\n",
      "                                                Name     Sex   Age  SibSp  \\\n",
      "0                            Braund, Mr. Owen Harris    male  22.0      1   \n",
      "1  Cumings, Mrs. John Bradley (Florence Briggs Th...  female  38.0      1   \n",
      "2                             Heikkinen, Miss. Laina  female  26.0      0   \n",
      "3       Futrelle, Mrs. Jacques Heath (Lily May Peel)  female  35.0      1   \n",
      "4                           Allen, Mr. William Henry    male  35.0      0   \n",
      "\n",
      "   Parch            Ticket     Fare Cabin Embarked  \n",
      "0      0         A/5 21171   7.2500   NaN        S  \n",
      "1      0          PC 17599  71.2833   C85        C  \n",
      "2      0  STON/O2. 3101282   7.9250   NaN        S  \n",
      "3      0            113803  53.1000  C123        S  \n",
      "4      0            373450   8.0500   NaN        S  \n"
     ]
    }
   ],
   "source": [
    "#Question 1\n",
    "\n",
    "result=df_titanic.head(5)\n",
    "\n",
    "print(result)\n"
   ]
  },
  {
   "cell_type": "markdown",
   "metadata": {},
   "source": [
    "# Question2 show the size and dimension of the dataset"
   ]
  },
  {
   "cell_type": "code",
   "execution_count": 3,
   "metadata": {},
   "outputs": [
    {
     "name": "stdout",
     "output_type": "stream",
     "text": [
      "Total size 10692\n",
      "Number of passangers 891\n",
      "Number of features 12\n"
     ]
    }
   ],
   "source": [
    "size=df_titanic.size\n",
    "dimension=df_titanic.shape\n",
    "\n",
    "print(\"Total size\" , size)\n",
    "print(\"Number of passangers\" , dimension[0])\n",
    "print(\"Number of features\" , dimension[1])"
   ]
  },
  {
   "cell_type": "markdown",
   "metadata": {},
   "source": [
    "Number of passangers 981\n",
    "\n",
    "Number of features 12"
   ]
  },
  {
   "cell_type": "markdown",
   "metadata": {},
   "source": [
    "# Question3 missing values there are in the dataset for each feature column."
   ]
  },
  {
   "cell_type": "code",
   "execution_count": 6,
   "metadata": {},
   "outputs": [
    {
     "name": "stdout",
     "output_type": "stream",
     "text": [
      "Number of PassengerId column's missing values=  0\n",
      "Number of Survived column's missing values=  0\n",
      "Number of Pclass column's missing values=  0\n",
      "Number of Name column's missing values=  0\n",
      "Number of Sex column's missing values=  0\n",
      "Number of Age column's missing values=  177\n",
      "Number of SibSp column's missing values=  0\n",
      "Number of Parch column's missing values=  0\n",
      "Number of Ticket column's missing values=  0\n",
      "Number of Fare column's missing values=  0\n",
      "Number of Cabin column's missing values=  687\n",
      "Number of Embarked column's missing values=  2\n"
     ]
    }
   ],
   "source": [
    "nullcolumn0 = df_titanic[\"PassengerId\"].isnull().sum()\n",
    "\n",
    "print(\"Number of PassengerId column's missing values= \" , nullcolumn0)\n",
    "\n",
    "nullcolumn1 = df_titanic[\"Survived\"].isnull().sum()\n",
    "\n",
    "print(\"Number of Survived column's missing values= \" , nullcolumn1)\n",
    "\n",
    "nullcolumn2 = df_titanic[\"Pclass\"].isnull().sum()\n",
    "\n",
    "print(\"Number of Pclass column's missing values= \" , nullcolumn2)\n",
    "\n",
    "nullcolumn3 = df_titanic[\"Name\"].isnull().sum()\n",
    "\n",
    "print(\"Number of Name column's missing values= \" , nullcolumn3)\n",
    "\n",
    "nullcolumn4 = df_titanic[\"Sex\"].isnull().sum()\n",
    "\n",
    "print(\"Number of Sex column's missing values= \" , nullcolumn4)\n",
    "\n",
    "nullcolumn5 = df_titanic[\"Age\"].isnull().sum()\n",
    "\n",
    "print(\"Number of Age column's missing values= \" , nullcolumn5)\n",
    "\n",
    "nullcolumn6 = df_titanic[\"SibSp\"].isnull().sum()\n",
    "\n",
    "print(\"Number of SibSp column's missing values= \" , nullcolumn6)\n",
    "\n",
    "nullcolumn7 = df_titanic[\"Parch\"].isnull().sum()\n",
    "\n",
    "print(\"Number of Parch column's missing values= \" , nullcolumn7)\n",
    "\n",
    "nullcolumn8 = df_titanic[\"Ticket\"].isnull().sum()\n",
    "\n",
    "print(\"Number of Ticket column's missing values= \" , nullcolumn8)\n",
    "\n",
    "nullcolumn9 = df_titanic[\"Fare\"].isnull().sum()\n",
    "\n",
    "print(\"Number of Fare column's missing values= \" , nullcolumn9)\n",
    "\n",
    "nullcolumn10 = df_titanic[\"Cabin\"].isnull().sum()\n",
    "\n",
    "print(\"Number of Cabin column's missing values= \" , nullcolumn10)\n",
    "\n",
    "nullcolumn11 = df_titanic[\"Embarked\"].isnull().sum()\n",
    "\n",
    "print(\"Number of Embarked column's missing values= \" , nullcolumn11)\n",
    "\n"
   ]
  },
  {
   "cell_type": "markdown",
   "metadata": {},
   "source": [
    "Only 3 columns contain missing values. These are the \"Age\" \"Cabin\" and \"Embarked\" crawls. Number of Age column's missing values are 177. Number of Cabin column's missing values are  687. Number of Embarked column's missing values are 2."
   ]
  },
  {
   "cell_type": "markdown",
   "metadata": {},
   "source": [
    "# Question 4 - a pie chart which shows the percentage of passengers that survived and the percentage of the passengers that did not survive. "
   ]
  },
  {
   "cell_type": "code",
   "execution_count": 17,
   "metadata": {},
   "outputs": [
    {
     "data": {
      "text/plain": [
       "<AxesSubplot:ylabel='Survived'>"
      ]
     },
     "execution_count": 17,
     "metadata": {},
     "output_type": "execute_result"
    },
    {
     "data": {
      "image/png": "[encoded data removed]",
      "text/plain": [
       "<Figure size 360x360 with 1 Axes>"
      ]
     },
     "metadata": {},
     "output_type": "display_data"
    }
   ],
   "source": [
    "plt.figure(figsize=(5,5))\n",
    "df_titanic.Survived.value_counts().plot(kind = 'pie' , labels=[\"survived\",\"not survived\"], autopct=\"%.2f\")"
   ]
  },
  {
   "cell_type": "markdown",
   "metadata": {},
   "source": [
    "The proportion(percentage) of people who survive is much higher than that of people who do not survive."
   ]
  },
  {
   "cell_type": "markdown",
   "metadata": {},
   "source": [
    "# Question 5- a bar chart that shows the number of female passengers and the total number of male passengers"
   ]
  },
  {
   "cell_type": "code",
   "execution_count": 20,
   "metadata": {},
   "outputs": [
    {
     "name": "stdout",
     "output_type": "stream",
     "text": [
      "male      577\n",
      "female    314\n",
      "Name: Sex, dtype: int64\n"
     ]
    },
    {
     "data": {
      "image/png": "[encoded data removed]",
      "text/plain": [
       "<Figure size 360x360 with 1 Axes>"
      ]
     },
     "metadata": {
      "needs_background": "light"
     },
     "output_type": "display_data"
    }
   ],
   "source": [
    "plt.figure(figsize=(5,5))\n",
    "df_titanic.Sex.value_counts().plot(kind='bar')\n",
    "print (df_titanic.Sex.value_counts())"
   ]
  },
  {
   "cell_type": "markdown",
   "metadata": {},
   "source": [
    "# Question 6  a bar chart that shows the number of females and males who survived and who did not survive."
   ]
  },
  {
   "cell_type": "code",
   "execution_count": 64,
   "metadata": {},
   "outputs": [
    {
     "data": {
      "image/png": "[encoded data removed]",
      "text/plain": [
       "<Figure size 432x288 with 1 Axes>"
      ]
     },
     "metadata": {
      "needs_background": "light"
     },
     "output_type": "display_data"
    }
   ],
   "source": [
    "fig = plt.figure()\n",
    "sbn.countplot(x='Sex', hue='Survived', data=df_titanic)\n",
    "fig.suptitle('Survival of male and female')\n",
    "plt.show()\n"
   ]
  },
  {
   "cell_type": "markdown",
   "metadata": {},
   "source": [
    "There are more males than females. The number of females that have survived is higher than the proportion of males. The proportion of females who do not survive is much lower than the proportion of males."
   ]
  },
  {
   "cell_type": "markdown",
   "metadata": {},
   "source": [
    "# Question 7 -  a bar chart that shows the surival rates of females and males. "
   ]
  },
  {
   "cell_type": "code",
   "execution_count": 26,
   "metadata": {},
   "outputs": [
    {
     "data": {
      "text/plain": [
       "Text(0.5, 1.0, 'Surival rates of females and males')"
      ]
     },
     "execution_count": 26,
     "metadata": {},
     "output_type": "execute_result"
    },
    {
     "data": {
      "image/png": "[encoded data removed]",
      "text/plain": [
       "<Figure size 432x288 with 1 Axes>"
      ]
     },
     "metadata": {
      "needs_background": "light"
     },
     "output_type": "display_data"
    }
   ],
   "source": [
    "survived = df_titanic[df_titanic['Survived']==1]['Sex'].value_counts()\n",
    "not_survived = df_titanic[df_titanic['Survived']==0]['Sex'].value_counts()\n",
    "df = pd.DataFrame([survived,not_survived])\n",
    "df.index=['Survived','Not survived']\n",
    "df.plot(kind='bar',stacked=True,fig=(18,6),title='Sex')\n",
    "plt.title(\"Surival rates of females and males\")"
   ]
  },
  {
   "cell_type": "markdown",
   "metadata": {},
   "source": [
    "There are more males than females. The proportion(rates) of females that have survived is higher than the proportion of males. The proportion of females who do not survive is much lower than the proportion of males."
   ]
  },
  {
   "cell_type": "markdown",
   "metadata": {},
   "source": [
    "# Question 8 - The cross table makes it possible to get information about how many people in the 2nd class have survived "
   ]
  },
  {
   "cell_type": "code",
   "execution_count": 37,
   "metadata": {},
   "outputs": [
    {
     "name": "stdout",
     "output_type": "stream",
     "text": [
      "Survived    0    1  All\n",
      "Pclass                 \n",
      "1          80  136  216\n",
      "2          97   87  184\n",
      "3         372  119  491\n",
      "All       549  342  891\n"
     ]
    }
   ],
   "source": [
    "print(pd.crosstab(df_titanic['Pclass'], df_titanic['Survived'], margins=True, margins_name=\"All\" ))"
   ]
  },
  {
   "cell_type": "markdown",
   "metadata": {},
   "source": [
    "The class with the most survivors is the 1st class. The class with the most non-survivors is the 3rd grade.\n",
    "\n",
    "Number of survivors in that class / all passengers in that class for the 1st class : 136/216 * 100 = 62.96%\n",
    "\n",
    "Number of survivors in that class / all passengers in that class for the 2nd class : 87/184 * 100 = 47.28%\n",
    "\n",
    "Number of survivors in that class / all passengers in that class : 119/491 * 100 = 24.23%"
   ]
  },
  {
   "cell_type": "markdown",
   "metadata": {},
   "source": [
    "# Question 9 - a bar chart that shows the number of passengers who survived and who didn’t survive for each class."
   ]
  },
  {
   "cell_type": "code",
   "execution_count": 38,
   "metadata": {},
   "outputs": [
    {
     "data": {
      "text/plain": [
       "<AxesSubplot:xlabel='Survived', ylabel='count'>"
      ]
     },
     "execution_count": 38,
     "metadata": {},
     "output_type": "execute_result"
    },
    {
     "data": {
      "image/png": "[encoded data removed]",
      "text/plain": [
       "<Figure size 432x288 with 1 Axes>"
      ]
     },
     "metadata": {
      "needs_background": "light"
     },
     "output_type": "display_data"
    }
   ],
   "source": [
    "sbn.countplot(data=df_titanic, x=\"Survived\", hue=\"Pclass\")"
   ]
  },
  {
   "cell_type": "markdown",
   "metadata": {},
   "source": [
    " "
   ]
  },
  {
   "cell_type": "markdown",
   "metadata": {},
   "source": [
    "# Question 10 - a cross table as shown below"
   ]
  },
  {
   "cell_type": "code",
   "execution_count": 39,
   "metadata": {},
   "outputs": [
    {
     "name": "stdout",
     "output_type": "stream",
     "text": [
      "Pclass             1    2    3  All\n",
      "Sex    Survived                    \n",
      "female 0           3    6   72   81\n",
      "       1          91   70   72  233\n",
      "male   0          77   91  300  468\n",
      "       1          45   17   47  109\n",
      "All              216  184  491  891\n"
     ]
    }
   ],
   "source": [
    "#Question 10\n",
    "\n",
    "print(pd.crosstab( [ df_titanic['Sex'] ,  df_titanic['Survived']], df_titanic['Pclass'], margins=True, margins_name=\"All\" ))\n"
   ]
  },
  {
   "cell_type": "markdown",
   "metadata": {},
   "source": [
    "Survival rate of females in 1st class: 91/94 * 100 = 96,80%\n",
    "Survival rate of males in 1st class  : 45/122 * 100 = 36.88%\n",
    "\n",
    "Survival rate of females in 2nd class : 70/76 * 100 = 92.10%\n",
    "Survival rate of males in 2nd class   : 17/108 * 100 = 15.74%\n",
    "\n",
    "Survival rate of females in 3rd class : 72/144 * 100 = 50%\n",
    "Survival rate of males in 3rd class   : 47/347 * 100 = 13,54%\n",
    "\n",
    "The survival rate of females in the 1st class is higher.\n",
    "The survival rate of females in the 2nd class is higher.\n",
    "The survival rate of females in the 3rd class is higher."
   ]
  },
  {
   "cell_type": "markdown",
   "metadata": {},
   "source": [
    "# Question 11 the age of the olders passenger"
   ]
  },
  {
   "cell_type": "code",
   "execution_count": 42,
   "metadata": {},
   "outputs": [
    {
     "name": "stdout",
     "output_type": "stream",
     "text": [
      "Age of the olders passenger:  80.0\n"
     ]
    }
   ],
   "source": [
    "print(\"Age of the olders passenger: \", df_titanic['Age'].max())"
   ]
  },
  {
   "cell_type": "markdown",
   "metadata": {},
   "source": [
    "# Question 12  the age of the youngest passenger"
   ]
  },
  {
   "cell_type": "code",
   "execution_count": 43,
   "metadata": {},
   "outputs": [
    {
     "name": "stdout",
     "output_type": "stream",
     "text": [
      "Age of the youngest  passenger:  0.42\n"
     ]
    }
   ],
   "source": [
    "print(\"Age of the youngest  passenger: \", df_titanic['Age'].min())\n"
   ]
  },
  {
   "cell_type": "markdown",
   "metadata": {},
   "source": [
    "# Question 13 the average age of the passengers"
   ]
  },
  {
   "cell_type": "code",
   "execution_count": 45,
   "metadata": {},
   "outputs": [
    {
     "name": "stdout",
     "output_type": "stream",
     "text": [
      "Average age of the passengers:  29.69911764705882\n"
     ]
    }
   ],
   "source": [
    "print(\"Average age of the passengers: \", df_titanic['Age'].mean())"
   ]
  },
  {
   "cell_type": "markdown",
   "metadata": {},
   "source": [
    "# Question 14  the histogram that shows the age distribution of the passengers who survived"
   ]
  },
  {
   "cell_type": "code",
   "execution_count": 27,
   "metadata": {},
   "outputs": [
    {
     "data": {
      "text/plain": [
       "Text(0.5, 1.0, 'The age distribution of the passengers who survived')"
      ]
     },
     "execution_count": 27,
     "metadata": {},
     "output_type": "execute_result"
    },
    {
     "data": {
      "image/png": "[encoded data removed]",
      "text/plain": [
       "<Figure size 432x288 with 1 Axes>"
      ]
     },
     "metadata": {
      "needs_background": "light"
     },
     "output_type": "display_data"
    }
   ],
   "source": [
    "df_titanic2 = df_titanic.loc[df_titanic['Survived'] == 1]\n",
    "\n",
    "df_titanic2.Age.hist(bins=10)\n",
    "plt.xlabel(\"Age\")\n",
    "plt.ylabel(\"Number of Person\")\n",
    "plt.title(\"The age distribution of the passengers who survived\")"
   ]
  },
  {
   "cell_type": "markdown",
   "metadata": {},
   "source": [
    "# Question 15 the histogram that shows the age distibution of the passengers who didn’t survive.\n"
   ]
  },
  {
   "cell_type": "code",
   "execution_count": 28,
   "metadata": {},
   "outputs": [
    {
     "data": {
      "text/plain": [
       "Text(0.5, 1.0, 'The age distibution of the passengers who didn’t survive.')"
      ]
     },
     "execution_count": 28,
     "metadata": {},
     "output_type": "execute_result"
    },
    {
     "data": {
      "image/png": "[encoded data removed]",
      "text/plain": [
       "<Figure size 432x288 with 1 Axes>"
      ]
     },
     "metadata": {
      "needs_background": "light"
     },
     "output_type": "display_data"
    }
   ],
   "source": [
    "df_titanic2 = df_titanic.loc[df_titanic['Survived'] == 0]\n",
    "\n",
    "df_titanic2.Age.hist(bins=10)\n",
    "plt.xlabel(\"Age\")\n",
    "plt.ylabel(\"Number of Person\")\n",
    "plt.title(\"The age distibution of the passengers who didn’t survive.\")"
   ]
  },
  {
   "cell_type": "markdown",
   "metadata": {},
   "source": [
    "--------------------\n",
    "\n",
    "-The survival rate for children is much higher.\n",
    "\n",
    "-The non-survival rate is higher, especially after the age of 40."
   ]
  },
  {
   "cell_type": "markdown",
   "metadata": {},
   "source": [
    "# Question 16 the the lowest fare"
   ]
  },
  {
   "cell_type": "code",
   "execution_count": 48,
   "metadata": {},
   "outputs": [
    {
     "name": "stdout",
     "output_type": "stream",
     "text": [
      "The lowest fare=  0.0\n"
     ]
    }
   ],
   "source": [
    "print(\"The lowest fare= \", df_titanic['Fare'].min())"
   ]
  },
  {
   "cell_type": "markdown",
   "metadata": {},
   "source": [
    "# Question 17 the highest fare"
   ]
  },
  {
   "cell_type": "code",
   "execution_count": 51,
   "metadata": {},
   "outputs": [
    {
     "name": "stdout",
     "output_type": "stream",
     "text": [
      "The highest fare=  512.3292\n"
     ]
    }
   ],
   "source": [
    "print(\"The highest fare= \", df_titanic['Fare'].max())\n"
   ]
  },
  {
   "cell_type": "markdown",
   "metadata": {},
   "source": [
    "# Question 18  the average fare"
   ]
  },
  {
   "cell_type": "code",
   "execution_count": 52,
   "metadata": {},
   "outputs": [
    {
     "name": "stdout",
     "output_type": "stream",
     "text": [
      "The average fare=  32.204207968574636\n"
     ]
    }
   ],
   "source": [
    "print(\"The average fare= \", df_titanic['Fare'].mean())"
   ]
  },
  {
   "cell_type": "markdown",
   "metadata": {},
   "source": [
    "# Question 19  the histogram that shows the distribution of passengers according to the fare they paid."
   ]
  },
  {
   "cell_type": "code",
   "execution_count": 53,
   "metadata": {},
   "outputs": [
    {
     "data": {
      "text/plain": [
       "Text(0.5, 1.0, 'Histogram of Fare')"
      ]
     },
     "execution_count": 53,
     "metadata": {},
     "output_type": "execute_result"
    },
    {
     "data": {
      "image/png": "[encoded data removed]",
      "text/plain": [
       "<Figure size 432x288 with 1 Axes>"
      ]
     },
     "metadata": {
      "needs_background": "light"
     },
     "output_type": "display_data"
    }
   ],
   "source": [
    "df_titanic.Fare.hist(bins=10)\n",
    "plt.xlabel(\"Fare\")\n",
    "plt.ylabel(\"Number of Person\")\n",
    "plt.title(\"Histogram of Fare\")"
   ]
  },
  {
   "cell_type": "markdown",
   "metadata": {},
   "source": [
    "# Question 20 Are there any children under the age of 10 traveling without their parents? What might this indicate?"
   ]
  },
  {
   "cell_type": "code",
   "execution_count": 54,
   "metadata": {},
   "outputs": [
    {
     "name": "stdout",
     "output_type": "stream",
     "text": [
      "PassengerId    0.0\n",
      "Survived       0.0\n",
      "Pclass         0.0\n",
      "Name           0.0\n",
      "Sex            0.0\n",
      "Age            0.0\n",
      "SibSp          0.0\n",
      "Parch          0.0\n",
      "Ticket         0.0\n",
      "Fare           0.0\n",
      "Cabin          0.0\n",
      "Embarked       0.0\n",
      "dtype: float64\n",
      "PassengerId                              778\n",
      "Survived                                   1\n",
      "Pclass                                     3\n",
      "Name           Emanuel, Miss. Virginia Ethel\n",
      "Sex                                   female\n",
      "Age                                        5\n",
      "SibSp                                      0\n",
      "Parch                                      0\n",
      "Ticket                                364516\n",
      "Fare                                  12.475\n",
      "Cabin                                      0\n",
      "Embarked                                   S\n",
      "dtype: object\n"
     ]
    }
   ],
   "source": [
    "age= df_titanic[(df_titanic[\"Age\"]<=10 )  & (df_titanic[\"Parch\"]==0 )  &(df_titanic[\"Survived\"]==0)].sum()\n",
    "print(age)\n",
    "\n",
    "age2= df_titanic[(df_titanic[\"Age\"]<=10 ) & (df_titanic[\"Parch\"]==0 )  &(df_titanic[\"Survived\"]==1)].sum()\n",
    "print(age2)"
   ]
  },
  {
   "cell_type": "markdown",
   "metadata": {},
   "source": [
    "\n",
    "------------------------------------------------\n",
    "There is only one child under 10 years old traveling without parents. That child survived. Being one person only means that children under 10 are not alone. If we looked at age 15 instead of 10, we could see that the survival rate of children under 15 who travel without their parents is slightly higher than other ages."
   ]
  }
 ],
 "metadata": {
  "kernelspec": {
   "display_name": "Python 3",
   "language": "python",
   "name": "python3"
  },
  "language_info": {
   "codemirror_mode": {
    "name": "ipython",
    "version": 3
   },
   "file_extension": ".py",
   "mimetype": "text/x-python",
   "name": "python",
   "nbconvert_exporter": "python",
   "pygments_lexer": "ipython3",
   "version": "3.8.5"
  }
 },
 "nbformat": 4,
 "nbformat_minor": 4
}
